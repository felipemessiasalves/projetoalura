{
  "nbformat": 4,
  "nbformat_minor": 0,
  "metadata": {
    "colab": {
      "provenance": [],
      "include_colab_link": true
    },
    "kernelspec": {
      "name": "python3",
      "display_name": "Python 3"
    },
    "language_info": {
      "name": "python"
    }
  },
  "cells": [
    {
      "cell_type": "markdown",
      "metadata": {
        "id": "view-in-github",
        "colab_type": "text"
      },
      "source": [
        "<a href=\"https://colab.research.google.com/github/felipemessiasalves/projetoalura/blob/main/BuzzUrbano_Agentes.ipynb\" target=\"_parent\"><img src=\"https://colab.research.google.com/assets/colab-badge.svg\" alt=\"Open In Colab\"/></a>"
      ]
    },
    {
      "cell_type": "code",
      "source": [
        "%pip -q install google-genai"
      ],
      "metadata": {
        "id": "UCCbECexLk_h"
      },
      "execution_count": null,
      "outputs": []
    },
    {
      "cell_type": "code",
      "source": [
        "# Configura a API Key do Google Gemini\n",
        "\n",
        "import os\n",
        "from google.colab import userdata\n",
        "\n",
        "os.environ[\"GOOGLE_API_KEY\"] = userdata.get('GOOGLE_API_KEY')"
      ],
      "metadata": {
        "id": "NfCqHo1tLk8P"
      },
      "execution_count": null,
      "outputs": []
    },
    {
      "cell_type": "code",
      "source": [
        "# Configura o cliente da SDK do Gemini\n",
        "\n",
        "from google import genai\n",
        "\n",
        "client = genai.Client()\n",
        "\n",
        "MODEL_ID = \"gemini-2.0-flash\""
      ],
      "metadata": {
        "id": "bV4w0H5TLk5g"
      },
      "execution_count": null,
      "outputs": []
    },
    {
      "cell_type": "code",
      "source": [
        "# Pergunta ao Gemini uma informação mais recente que seu conhecimento\n",
        "\n",
        "from IPython.display import HTML, Markdown\n",
        "\n",
        "# Perguntar pro modelo quando é a próxima imersão de IA ###############################################\n",
        "resposta = client.models.generate_content(\n",
        "    model=MODEL_ID,\n",
        "    contents='Quando é a próxima Imersão IA com Google Gemini da Alura?',\n",
        ")\n",
        "\n",
        "\n",
        "# Exibe a resposta na tela\n",
        "display(Markdown(f\"Resposta:\\n {resposta.text}\"))"
      ],
      "metadata": {
        "id": "HwVP7Xi34Zuw",
        "colab": {
          "base_uri": "https://localhost:8080/",
          "height": 180
        },
        "outputId": "94796fbc-564c-4583-cfde-650d282afb67"
      },
      "execution_count": null,
      "outputs": [
        {
          "output_type": "display_data",
          "data": {
            "text/plain": [
              "<IPython.core.display.Markdown object>"
            ],
            "text/markdown": "Resposta:\n A Alura não tem uma data fixa para a Imersão IA com Google Gemini. A melhor forma de saber quando a próxima edição será lançada é:\n\n*   **Acompanhar as redes sociais da Alura:** Fique de olho nos perfis da Alura no Instagram, LinkedIn, Twitter e Facebook. Eles costumam anunciar novos cursos e imersões por lá.\n*   **Assinar a newsletter da Alura:** Cadastre seu e-mail no site da Alura para receber novidades e anúncios em primeira mão.\n*   **Verificar a página de Imersões da Alura:** Consulte periodicamente a página de Imersões no site da Alura. Lá, você encontrará informações sobre as imersões abertas e futuras.\n*   **Entrar no Discord da Alura:** A comunidade do Discord da Alura é um ótimo lugar para ficar sabendo de novidades e trocar informações com outros alunos.\n\nSeguindo esses canais, você será um dos primeiros a saber quando a próxima Imersão IA com Google Gemini for anunciada."
          },
          "metadata": {}
        }
      ]
    },
    {
      "cell_type": "code",
      "source": [
        "# Pergunta ao Gemini uma informação utilizando a busca do Google como contexto\n",
        "\n",
        "resposta = client.models.generate_content(\n",
        "    model=MODEL_ID,\n",
        "    contents='Quando é a próxima Imersão IA com Google Gemini da Alura?',\n",
        "    config={\"tools\": [{\"google_search\": {}}]}\n",
        ")\n",
        "\n",
        "# Exibe a resposta na tela\n",
        "display(Markdown(f\"Resposta:\\n {resposta.text}\"))"
      ],
      "metadata": {
        "id": "yXaZd7iZ4ftw",
        "colab": {
          "base_uri": "https://localhost:8080/",
          "height": 87
        },
        "outputId": "ec5cdd24-4e65-4ace-f2a1-3a30e0049394"
      },
      "execution_count": null,
      "outputs": [
        {
          "output_type": "display_data",
          "data": {
            "text/plain": [
              "<IPython.core.display.Markdown object>"
            ],
            "text/markdown": "Resposta:\n A última Imersão IA com Google Gemini da Alura ocorreu entre os dias 12 e 16 de maio de 2025. As inscrições para esta edição terminaram no dia 11 de maio de 2025.\n\nPara saber sobre futuras edições, você pode verificar o site da Alura.\n"
          },
          "metadata": {}
        }
      ]
    },
    {
      "cell_type": "code",
      "source": [
        "# Exibe a busca\n",
        "print(f\"Busca realizada: {resposta.candidates[0].grounding_metadata.web_search_queries}\")\n",
        "# Exibe as URLs nas quais ele se baseou\n",
        "print(f\"Páginas utilizadas na resposta: {', '.join([site.web.title for site in resposta.candidates[0].grounding_metadata.grounding_chunks])}\")\n",
        "print()\n",
        "display(HTML(resposta.candidates[0].grounding_metadata.search_entry_point.rendered_content))"
      ],
      "metadata": {
        "id": "xHSNlTd84heJ",
        "colab": {
          "base_uri": "https://localhost:8080/",
          "height": 117
        },
        "outputId": "a567a7d3-17bb-4629-f387-f82c6e93ec19"
      },
      "execution_count": null,
      "outputs": [
        {
          "output_type": "stream",
          "name": "stdout",
          "text": [
            "Busca realizada: ['Alura imersão IA google gemini']\n",
            "Páginas utilizadas na resposta: tecmundo.com.br, alura.com.br, alura.com.br\n",
            "\n"
          ]
        },
        {
          "output_type": "display_data",
          "data": {
            "text/plain": [
              "<IPython.core.display.HTML object>"
            ],
            "text/html": [
              "<style>\n",
              ".container {\n",
              "  align-items: center;\n",
              "  border-radius: 8px;\n",
              "  display: flex;\n",
              "  font-family: Google Sans, Roboto, sans-serif;\n",
              "  font-size: 14px;\n",
              "  line-height: 20px;\n",
              "  padding: 8px 12px;\n",
              "}\n",
              ".chip {\n",
              "  display: inline-block;\n",
              "  border: solid 1px;\n",
              "  border-radius: 16px;\n",
              "  min-width: 14px;\n",
              "  padding: 5px 16px;\n",
              "  text-align: center;\n",
              "  user-select: none;\n",
              "  margin: 0 8px;\n",
              "  -webkit-tap-highlight-color: transparent;\n",
              "}\n",
              ".carousel {\n",
              "  overflow: auto;\n",
              "  scrollbar-width: none;\n",
              "  white-space: nowrap;\n",
              "  margin-right: -12px;\n",
              "}\n",
              ".headline {\n",
              "  display: flex;\n",
              "  margin-right: 4px;\n",
              "}\n",
              ".gradient-container {\n",
              "  position: relative;\n",
              "}\n",
              ".gradient {\n",
              "  position: absolute;\n",
              "  transform: translate(3px, -9px);\n",
              "  height: 36px;\n",
              "  width: 9px;\n",
              "}\n",
              "@media (prefers-color-scheme: light) {\n",
              "  .container {\n",
              "    background-color: #fafafa;\n",
              "    box-shadow: 0 0 0 1px #0000000f;\n",
              "  }\n",
              "  .headline-label {\n",
              "    color: #1f1f1f;\n",
              "  }\n",
              "  .chip {\n",
              "    background-color: #ffffff;\n",
              "    border-color: #d2d2d2;\n",
              "    color: #5e5e5e;\n",
              "    text-decoration: none;\n",
              "  }\n",
              "  .chip:hover {\n",
              "    background-color: #f2f2f2;\n",
              "  }\n",
              "  .chip:focus {\n",
              "    background-color: #f2f2f2;\n",
              "  }\n",
              "  .chip:active {\n",
              "    background-color: #d8d8d8;\n",
              "    border-color: #b6b6b6;\n",
              "  }\n",
              "  .logo-dark {\n",
              "    display: none;\n",
              "  }\n",
              "  .gradient {\n",
              "    background: linear-gradient(90deg, #fafafa 15%, #fafafa00 100%);\n",
              "  }\n",
              "}\n",
              "@media (prefers-color-scheme: dark) {\n",
              "  .container {\n",
              "    background-color: #1f1f1f;\n",
              "    box-shadow: 0 0 0 1px #ffffff26;\n",
              "  }\n",
              "  .headline-label {\n",
              "    color: #fff;\n",
              "  }\n",
              "  .chip {\n",
              "    background-color: #2c2c2c;\n",
              "    border-color: #3c4043;\n",
              "    color: #fff;\n",
              "    text-decoration: none;\n",
              "  }\n",
              "  .chip:hover {\n",
              "    background-color: #353536;\n",
              "  }\n",
              "  .chip:focus {\n",
              "    background-color: #353536;\n",
              "  }\n",
              "  .chip:active {\n",
              "    background-color: #464849;\n",
              "    border-color: #53575b;\n",
              "  }\n",
              "  .logo-light {\n",
              "    display: none;\n",
              "  }\n",
              "  .gradient {\n",
              "    background: linear-gradient(90deg, #1f1f1f 15%, #1f1f1f00 100%);\n",
              "  }\n",
              "}\n",
              "</style>\n",
              "<div class=\"container\">\n",
              "  <div class=\"headline\">\n",
              "    <svg class=\"logo-light\" width=\"18\" height=\"18\" viewBox=\"9 9 35 35\" fill=\"none\" xmlns=\"http://www.w3.org/2000/svg\">\n",
              "      <path fill-rule=\"evenodd\" clip-rule=\"evenodd\" d=\"M42.8622 27.0064C42.8622 25.7839 42.7525 24.6084 42.5487 23.4799H26.3109V30.1568H35.5897C35.1821 32.3041 33.9596 34.1222 32.1258 35.3448V39.6864H37.7213C40.9814 36.677 42.8622 32.2571 42.8622 27.0064V27.0064Z\" fill=\"#4285F4\"/>\n",
              "      <path fill-rule=\"evenodd\" clip-rule=\"evenodd\" d=\"M26.3109 43.8555C30.9659 43.8555 34.8687 42.3195 37.7213 39.6863L32.1258 35.3447C30.5898 36.3792 28.6306 37.0061 26.3109 37.0061C21.8282 37.0061 18.0195 33.9811 16.6559 29.906H10.9194V34.3573C13.7563 39.9841 19.5712 43.8555 26.3109 43.8555V43.8555Z\" fill=\"#34A853\"/>\n",
              "      <path fill-rule=\"evenodd\" clip-rule=\"evenodd\" d=\"M16.6559 29.8904C16.3111 28.8559 16.1074 27.7588 16.1074 26.6146C16.1074 25.4704 16.3111 24.3733 16.6559 23.3388V18.8875H10.9194C9.74388 21.2072 9.06992 23.8247 9.06992 26.6146C9.06992 29.4045 9.74388 32.022 10.9194 34.3417L15.3864 30.8621L16.6559 29.8904V29.8904Z\" fill=\"#FBBC05\"/>\n",
              "      <path fill-rule=\"evenodd\" clip-rule=\"evenodd\" d=\"M26.3109 16.2386C28.85 16.2386 31.107 17.1164 32.9095 18.8091L37.8466 13.8719C34.853 11.082 30.9659 9.3736 26.3109 9.3736C19.5712 9.3736 13.7563 13.245 10.9194 18.8875L16.6559 23.3388C18.0195 19.2636 21.8282 16.2386 26.3109 16.2386V16.2386Z\" fill=\"#EA4335\"/>\n",
              "    </svg>\n",
              "    <svg class=\"logo-dark\" width=\"18\" height=\"18\" viewBox=\"0 0 48 48\" xmlns=\"http://www.w3.org/2000/svg\">\n",
              "      <circle cx=\"24\" cy=\"23\" fill=\"#FFF\" r=\"22\"/>\n",
              "      <path d=\"M33.76 34.26c2.75-2.56 4.49-6.37 4.49-11.26 0-.89-.08-1.84-.29-3H24.01v5.99h8.03c-.4 2.02-1.5 3.56-3.07 4.56v.75l3.91 2.97h.88z\" fill=\"#4285F4\"/>\n",
              "      <path d=\"M15.58 25.77A8.845 8.845 0 0 0 24 31.86c1.92 0 3.62-.46 4.97-1.31l4.79 3.71C31.14 36.7 27.65 38 24 38c-5.93 0-11.01-3.4-13.45-8.36l.17-1.01 4.06-2.85h.8z\" fill=\"#34A853\"/>\n",
              "      <path d=\"M15.59 20.21a8.864 8.864 0 0 0 0 5.58l-5.03 3.86c-.98-2-1.53-4.25-1.53-6.64 0-2.39.55-4.64 1.53-6.64l1-.22 3.81 2.98.22 1.08z\" fill=\"#FBBC05\"/>\n",
              "      <path d=\"M24 14.14c2.11 0 4.02.75 5.52 1.98l4.36-4.36C31.22 9.43 27.81 8 24 8c-5.93 0-11.01 3.4-13.45 8.36l5.03 3.85A8.86 8.86 0 0 1 24 14.14z\" fill=\"#EA4335\"/>\n",
              "    </svg>\n",
              "    <div class=\"gradient-container\"><div class=\"gradient\"></div></div>\n",
              "  </div>\n",
              "  <div class=\"carousel\">\n",
              "    <a class=\"chip\" href=\"https://vertexaisearch.cloud.google.com/grounding-api-redirect/AbF9wXF-UxBd5axQp7bcWDw6589F_qPlCoG5NDMuGWE-9p-KyefuS72Re2APjzR67nIVsIsWY18aCBA6D7gVeZu7vccvpLcz3cXbKMxb7bcR_yQI1PGRq66Pj2fGVZb125meFeZkf4BNiSGlDxrr7o5Qe_5FMrPdpJcwN4TcRNNkyZtqJHnfQlVBCoX8MhBp5p4mc98Rh1ODKe_9eUfl74XrsSVKi0aCDkxa\">Alura imersão IA google gemini</a>\n",
              "  </div>\n",
              "</div>\n"
            ]
          },
          "metadata": {}
        }
      ]
    },
    {
      "cell_type": "code",
      "source": [
        "# Instalar Framework ADK de agentes do Google ################################################\n",
        "!pip install -q google-adk"
      ],
      "metadata": {
        "id": "hvZ3UnPI4jhJ",
        "colab": {
          "base_uri": "https://localhost:8080/"
        },
        "outputId": "8f5ed292-f087-476e-cabc-7c56841dece6"
      },
      "execution_count": null,
      "outputs": [
        {
          "output_type": "stream",
          "name": "stdout",
          "text": [
            "\u001b[?25l   \u001b[90m━━━━━━━━━━━━━━━━━━━━━━━━━━━━━━━━━━━━━━━━\u001b[0m \u001b[32m0.0/1.2 MB\u001b[0m \u001b[31m?\u001b[0m eta \u001b[36m-:--:--\u001b[0m\r\u001b[2K   \u001b[91m━━━━━━━━━━━━━━━━━━━━━━━━━\u001b[0m\u001b[90m╺\u001b[0m\u001b[90m━━━━━━━━━━━━━━\u001b[0m \u001b[32m0.7/1.2 MB\u001b[0m \u001b[31m22.6 MB/s\u001b[0m eta \u001b[36m0:00:01\u001b[0m\r\u001b[2K   \u001b[91m━━━━━━━━━━━━━━━━━━━━━━━━━━━━━━━━━━━━━━━\u001b[0m\u001b[91m╸\u001b[0m \u001b[32m1.2/1.2 MB\u001b[0m \u001b[31m26.2 MB/s\u001b[0m eta \u001b[36m0:00:01\u001b[0m\r\u001b[2K   \u001b[90m━━━━━━━━━━━━━━━━━━━━━━━━━━━━━━━━━━━━━━━━\u001b[0m \u001b[32m1.2/1.2 MB\u001b[0m \u001b[31m15.1 MB/s\u001b[0m eta \u001b[36m0:00:00\u001b[0m\n",
            "\u001b[?25h\u001b[?25l   \u001b[90m━━━━━━━━━━━━━━━━━━━━━━━━━━━━━━━━━━━━━━━━\u001b[0m \u001b[32m0.0/232.1 kB\u001b[0m \u001b[31m?\u001b[0m eta \u001b[36m-:--:--\u001b[0m\r\u001b[2K   \u001b[90m━━━━━━━━━━━━━━━━━━━━━━━━━━━━━━━━━━━━━━━━\u001b[0m \u001b[32m232.1/232.1 kB\u001b[0m \u001b[31m9.0 MB/s\u001b[0m eta \u001b[36m0:00:00\u001b[0m\n",
            "\u001b[2K   \u001b[90m━━━━━━━━━━━━━━━━━━━━━━━━━━━━━━━━━━━━━━━━\u001b[0m \u001b[32m95.2/95.2 kB\u001b[0m \u001b[31m3.8 MB/s\u001b[0m eta \u001b[36m0:00:00\u001b[0m\n",
            "\u001b[2K   \u001b[90m━━━━━━━━━━━━━━━━━━━━━━━━━━━━━━━━━━━━━━━━\u001b[0m \u001b[32m217.1/217.1 kB\u001b[0m \u001b[31m8.8 MB/s\u001b[0m eta \u001b[36m0:00:00\u001b[0m\n",
            "\u001b[2K   \u001b[90m━━━━━━━━━━━━━━━━━━━━━━━━━━━━━━━━━━━━━━━━\u001b[0m \u001b[32m334.1/334.1 kB\u001b[0m \u001b[31m12.5 MB/s\u001b[0m eta \u001b[36m0:00:00\u001b[0m\n",
            "\u001b[2K   \u001b[90m━━━━━━━━━━━━━━━━━━━━━━━━━━━━━━━━━━━━━━━━\u001b[0m \u001b[32m125.1/125.1 kB\u001b[0m \u001b[31m4.9 MB/s\u001b[0m eta \u001b[36m0:00:00\u001b[0m\n",
            "\u001b[2K   \u001b[90m━━━━━━━━━━━━━━━━━━━━━━━━━━━━━━━━━━━━━━━━\u001b[0m \u001b[32m65.8/65.8 kB\u001b[0m \u001b[31m1.6 MB/s\u001b[0m eta \u001b[36m0:00:00\u001b[0m\n",
            "\u001b[2K   \u001b[90m━━━━━━━━━━━━━━━━━━━━━━━━━━━━━━━━━━━━━━━━\u001b[0m \u001b[32m119.0/119.0 kB\u001b[0m \u001b[31m5.0 MB/s\u001b[0m eta \u001b[36m0:00:00\u001b[0m\n",
            "\u001b[2K   \u001b[90m━━━━━━━━━━━━━━━━━━━━━━━━━━━━━━━━━━━━━━━━\u001b[0m \u001b[32m194.9/194.9 kB\u001b[0m \u001b[31m7.3 MB/s\u001b[0m eta \u001b[36m0:00:00\u001b[0m\n",
            "\u001b[2K   \u001b[90m━━━━━━━━━━━━━━━━━━━━━━━━━━━━━━━━━━━━━━━━\u001b[0m \u001b[32m62.5/62.5 kB\u001b[0m \u001b[31m2.3 MB/s\u001b[0m eta \u001b[36m0:00:00\u001b[0m\n",
            "\u001b[2K   \u001b[90m━━━━━━━━━━━━━━━━━━━━━━━━━━━━━━━━━━━━━━━━\u001b[0m \u001b[32m103.3/103.3 kB\u001b[0m \u001b[31m4.1 MB/s\u001b[0m eta \u001b[36m0:00:00\u001b[0m\n",
            "\u001b[2K   \u001b[90m━━━━━━━━━━━━━━━━━━━━━━━━━━━━━━━━━━━━━━━━\u001b[0m \u001b[32m44.4/44.4 kB\u001b[0m \u001b[31m1.6 MB/s\u001b[0m eta \u001b[36m0:00:00\u001b[0m\n",
            "\u001b[2K   \u001b[90m━━━━━━━━━━━━━━━━━━━━━━━━━━━━━━━━━━━━━━━━\u001b[0m \u001b[32m72.0/72.0 kB\u001b[0m \u001b[31m2.7 MB/s\u001b[0m eta \u001b[36m0:00:00\u001b[0m\n",
            "\u001b[?25h"
          ]
        }
      ]
    },
    {
      "cell_type": "code",
      "execution_count": null,
      "metadata": {
        "id": "aePV2bdfDeoW"
      },
      "outputs": [],
      "source": [
        "from google.adk.agents import Agent\n",
        "from google.adk.runners import Runner\n",
        "from google.adk.sessions import InMemorySessionService\n",
        "from google.adk.tools import google_search\n",
        "from google.genai import types  # Para criar conteúdos (Content e Part)\n",
        "from datetime import date\n",
        "import textwrap # Para formatar melhor a saída de texto\n",
        "from IPython.display import display, Markdown # Para exibir texto formatado no Colab\n",
        "import requests # Para fazer requisições HTTP\n",
        "import warnings\n",
        "\n",
        "warnings.filterwarnings(\"ignore\")"
      ]
    },
    {
      "cell_type": "code",
      "source": [
        "# Função auxiliar que envia uma mensagem para um agente via Runner e retorna a resposta final\n",
        "def call_agent(agent: Agent, message_text: str) -> str:\n",
        "    # Cria um serviço de sessão em memória\n",
        "    session_service = InMemorySessionService()\n",
        "    # Cria uma nova sessão (você pode personalizar os IDs conforme necessário)\n",
        "    session = session_service.create_session(app_name=agent.name, user_id=\"user1\", session_id=\"session1\")\n",
        "    # Cria um Runner para o agente\n",
        "    runner = Runner(agent=agent, app_name=agent.name, session_service=session_service)\n",
        "    # Cria o conteúdo da mensagem de entrada\n",
        "    content = types.Content(role=\"user\", parts=[types.Part(text=message_text)])\n",
        "\n",
        "    final_response = \"\"\n",
        "    # Itera assincronamente pelos eventos retornados durante a execução do agente\n",
        "    for event in runner.run(user_id=\"user1\", session_id=\"session1\", new_message=content):\n",
        "        if event.is_final_response():\n",
        "          for part in event.content.parts:\n",
        "            if part.text is not None:\n",
        "              final_response += part.text\n",
        "              final_response += \"\\n\"\n",
        "    return final_response"
      ],
      "metadata": {
        "id": "_xP4lWhsS5ko"
      },
      "execution_count": null,
      "outputs": []
    },
    {
      "cell_type": "code",
      "source": [
        "# Função auxiliar para exibir texto formatado em Markdown no Colab\n",
        "def to_markdown(text):\n",
        "  text = text.replace('•', '  *')\n",
        "  return Markdown(textwrap.indent(text, '> ', predicate=lambda _: True))"
      ],
      "metadata": {
        "id": "8dosiodaxfFR"
      },
      "execution_count": null,
      "outputs": []
    },
    {
      "cell_type": "code",
      "source": [
        "##########################################\n",
        "# --- Agente 1: Radar Urbano --- #\n",
        "##########################################\n",
        "def agente_buscador(topico, data_de_hoje):\n",
        "\n",
        "  buscador = Agent(\n",
        "      name=\"radar_urbano\",\n",
        "      model=\"gemini-2.0-flash\",\n",
        "      instruction=\"\"\"\n",
        "      Você é o Radar Urbano, uma agente de IA especializada em encontrar eventos, lugares\n",
        "      e atividades na cidade usando a ferramento do Google (google_search).\n",
        "      Sua missão é vasculhar diversas fontes online, como sites de\n",
        "      notícias, redes sociais e bancos de dados de estabelecimentos locais, para coletar\n",
        "      informações relevantes.\n",
        "      Filtre essas informações, identifique os eventos e atividades mais interessantes e\n",
        "      salve tudo em um formato organizado e fácil para consultar.\n",
        "      \"\"\",\n",
        "      description=\"Agente que busca informações no Google sobre locais\",\n",
        "      tools=[google_search],\n",
        "  )\n",
        "\n",
        "  entrada_do_agente_buscador = f\"Tópico: {topico}\\nData de hoje: {data_de_hoje}\"\n",
        "  lancamentos = call_agent(buscador, entrada_do_agente_buscador)\n",
        "  return lancamentos"
      ],
      "metadata": {
        "id": "o8bqIfi_DyH8"
      },
      "execution_count": null,
      "outputs": []
    },
    {
      "cell_type": "code",
      "source": [
        "################################################\n",
        "# --- Agente 2: Roteiro Urbano --- #\n",
        "################################################\n",
        "def agente_planejador(topico, lancamentos_buscados):\n",
        "    planejador = Agent(\n",
        "        name=\"agente_planejador\",\n",
        "        model=\"gemini-2.0-flash\",\n",
        "        # Inserir as instruções do Agente Planejador #################################################\n",
        "        instruction=\"\"\"\n",
        "        Você é o Roteiro Urbano, um especialista em criar roteiros personalizados para\n",
        "        explorar a cidade.\n",
        "        Sua missão é usar as informações do Radar Urbano para montar roteiros incríveis,\n",
        "        com sugestões de lugares para visitar, atividades para fazer e eventos para\n",
        "        curtir.\n",
        "        Os roteiros devem ser fáceis de seguir e adaptados aos interesses de cada pessoa.\n",
        "        \"\"\",\n",
        "        description=\"Agente que planeja locais\",\n",
        "        tools=[google_search]\n",
        "    )\n",
        "\n",
        "    entrada_do_agente_planejador = f\"Tópico:{topico}\\nLançamentos buscados: {lancamentos_buscados}\"\n",
        "    # Executa o agente\n",
        "    plano_do_local = call_agent(planejador, entrada_do_agente_planejador)\n",
        "    return plano_do_local"
      ],
      "metadata": {
        "id": "y3VO1uo5_ghO"
      },
      "execution_count": null,
      "outputs": []
    },
    {
      "cell_type": "code",
      "source": [
        "########################################\n",
        "# --- Agente 3: Inspirações Locais --- #\n",
        "########################################\n",
        "def agente_local(topico, plano_de_local):\n",
        "    local = Agent(\n",
        "        name=\"agente_local\",\n",
        "        model=\"gemini-2.0-flash\",\n",
        "        instruction=\"\"\"\n",
        "            Você é a Inspirações Locais, uma especialista em colocar os melhores locais\n",
        "            daquele local que a pessoa escreveu, pegando as melhores avaliações e colocando\n",
        "            na tela para a pessoa visitar, conhecer e explorar mais o local.\n",
        "            Utilizando a ferramenta do Google (google_search).\n",
        "            \"\"\",\n",
        "        description=\"Agente local ajuda a encontrar lugares únicos\"\n",
        "    )\n",
        "    entrada_do_agente_local = f\"Tópico: {topico}\\nPlano de local: {plano_de_local}\"\n",
        "    # Executa o agente\n",
        "    locais = call_agent(local, entrada_do_agente_local)\n",
        "    return locais"
      ],
      "metadata": {
        "id": "uOqlg2TRLVh1"
      },
      "execution_count": null,
      "outputs": []
    },
    {
      "cell_type": "code",
      "source": [
        "##########################################\n",
        "# --- Agente 4: Ponto de Encontro --- #\n",
        "##########################################\n",
        "def agente_final(topico, ponto_final):\n",
        "    final = Agent(\n",
        "        name=\"agente_final\",\n",
        "        model=\"gemini-2.0-flash\",\n",
        "        instruction=\"\"\"\n",
        "            Você é o Ponto de Encontro, o coração da comunidade BuzzUrbano.\n",
        "            Sua missão é conectar todas as informações.\n",
        "            Use as informações de todos os agentes para resumir o roteiro da viagem,\n",
        "            incentive a troca de experiências e dicas, e ajude os usuários a fazerem amigos para explorar a cidade juntos.\n",
        "            \"\"\",\n",
        "        description=\"Agente final resultado.\"\n",
        "    )\n",
        "    entrada_do_agente_final = f\"Tópico: {topico}\\nFinal: {ponto_final}\"\n",
        "    # Executa o agente\n",
        "    final = call_agent(final, entrada_do_agente_final)\n",
        "    return final"
      ],
      "metadata": {
        "id": "_aTb1SdkLeT6"
      },
      "execution_count": null,
      "outputs": []
    },
    {
      "cell_type": "code",
      "source": [
        "data_de_hoje = date.today().strftime(\"%d/%m/%Y\")\n",
        "\n",
        "print(\"🚀 BuzzUrbano 🚀\")\n",
        "\n",
        "# --- Obter o Tópico do Usuário ---\n",
        "topico = input(\"❓ Por favor, digite o TÓPICO sobre o qual você quer criar um BuzzUrbano de tendências: \")\n",
        "\n",
        "# Inserir lógica do sistema de agentes ################################################\n",
        "if not topico:\n",
        "  print(\"Você esqueceu de escrever o tópico!\")\n",
        "else:\n",
        "  print(f\"Maravilha! Vamos então criar o BuzzUrbano sobre novidades em {topico}\")\n",
        "\n",
        "  lancamentos_buscados = agente_buscador(topico, data_de_hoje)\n",
        "  print(\"\\n--- 📝 Resultado do Agente 1 ---\\n\")\n",
        "  display(to_markdown(lancamentos_buscados))\n",
        "  print(\"--------------------------------------------------------------\")\n",
        "\n",
        "  plano_de_local = agente_local(topico, lancamentos_buscados)\n",
        "  print(\"\\n--- 📝 Resultado do Agente 2 ---\\n\")\n",
        "  display(to_markdown(plano_de_local))\n",
        "  print(\"--------------------------------------------------------------\")\n",
        "\n",
        "  agente_de_local = agente_local(topico, plano_de_local)\n",
        "  print(\"\\n--- 📝 Resultado do Agente 3 ---\\n\")\n",
        "  display(to_markdown(agente_de_local))\n",
        "  print(\"--------------------------------------------------------------\")\n",
        "\n",
        "  local_final = agente_final(topico, agente_de_local)\n",
        "  print(\"\\n--- 📝 Resultado do Agente 4 ---\\n\")\n",
        "  display(to_markdown(local_final))\n",
        "  print(\"--------------------------------------------------------------\")"
      ],
      "metadata": {
        "id": "630ummxz4myx",
        "colab": {
          "base_uri": "https://localhost:8080/",
          "height": 1000
        },
        "outputId": "bb0b7a1f-0c58-497c-dacb-ee0b0c519701"
      },
      "execution_count": null,
      "outputs": [
        {
          "output_type": "stream",
          "name": "stdout",
          "text": [
            "🚀 BuzzUrbano 🚀\n",
            "❓ Por favor, digite o TÓPICO sobre o qual você quer criar um BuzzUrbano de tendências: Foz do Iguaçu\n",
            "Maravilha! Vamos então criar o BuzzUrbano sobre novidades em Foz do Iguaçu\n",
            "\n",
            "--- 📝 Resultado do Agente 1 ---\n",
            "\n"
          ]
        },
        {
          "output_type": "display_data",
          "data": {
            "text/plain": [
              "<IPython.core.display.Markdown object>"
            ],
            "text/markdown": "> Ok, estou pronto para procurar eventos, lugares e atividades em Foz do Iguaçu.\n> \n> Aqui estão algumas sugestões de coisas para fazer em Foz do Iguaçu hoje, 17 de maio de 2025:\n> \n> **Eventos e Festivais:**\n> \n> *   **Conexão Circo é Riso:** De 16 de maio a 8 de junho, o projeto \"Conexão Circo é Riso\" estará circulando pela cidade.\n> *   **5º Festival da Galinhada do Nican:** O festival estará acontecendo de 17 a 18 de maio no Salão Paroquial São José Operário.\n> *   **Convenção Denteck:** Se você for da área odontológica, a Convenção Denteck estará acontecendo até o dia 17 de maio no Recanto Cataratas Thermas Resort & Convention.\n> *   **Planeta Park:** O parque de diversões Planeta Park estará aberto das 18:00 às 22:00.\n> *   **Happy Hour da CAI:** A Comissão da Advocacia Iniciante está promovendo um happy hour com música e comida.\n> *   **2ª edição do Conexión Latina:** Uma noite especial com oficina de Salsa Cubana e social bailable no Studio Frontera Tropical.\n> \n> **Atrações Turísticas e Passeios:**\n> \n> *   **Cataratas do Iguaçu:** Visite o lado brasileiro das Cataratas do Iguaçu e maravilhe-se com a beleza e a grandiosidade das quedas d'água. Para uma experiência diferente, considere a \"Noite das Cataratas\", que combina o espetáculo das quedas d'água iluminadas com um jantar exclusivo.\n> *   **Parque das Aves:** Caminhe por trilhas em meio a viveiros gigantes e interaja com aves tropicais em seu habitat natural.\n> *   **Itaipu Binacional:** Faça um tour pela usina hidrelétrica de Itaipu, uma das maiores do mundo. À noite, você pode assistir ao espetáculo da Itaipu Iluminada.\n> *   **Marco das Três Fronteiras:** Visite o ponto onde o Brasil, a Argentina e o Paraguai se encontram.\n> *   **Roda Gigante Yup Star:** Desfrute de vistas panorâmicas da região na roda gigante Yup Star.\n> *   **Templos:** Visite o Templo Budista.\n> *   **City Tour:** Faça um city tour para conhecer os principais pontos turísticos de Foz do Iguaçu.\n> *   **Avenida Pedro Basso:** Passeie pela charmosa Avenida Pedro Basso, conhecida por sua vida noturna.\n> \n> **Outras Atividades:**\n> \n> *   **Compras no Paraguai:** Faça compras no Paraguai com a ajuda de um personal shopper.\n> *   **City Tour Argentina:** Explore a cidade de Puerto Iguazú, na Argentina.\n> *   **Parques Temáticos:** Visite os parques temáticos de Foz do Iguaçu, como o Dreams Park Show, que inclui o Museu de Cera, o Vale dos Dinossauros e o Dreams Ice Bar.\n> *   **Aquamania:** Refresque-se e divirta-se nas atrações do parque aquático Aquamania.\n> \n> Lembre-se que alguns eventos e atrações podem ter horários específicos ou exigir reservas antecipadas. É sempre bom verificar as informações com antecedência..\n"
          },
          "metadata": {}
        },
        {
          "output_type": "stream",
          "name": "stdout",
          "text": [
            "--------------------------------------------------------------\n",
            "\n",
            "--- 📝 Resultado do Agente 2 ---\n",
            "\n"
          ]
        },
        {
          "output_type": "display_data",
          "data": {
            "text/plain": [
              "<IPython.core.display.Markdown object>"
            ],
            "text/markdown": "> Uau, Foz do Iguaçu está bombando em 17 de maio de 2025! Com tantas opções, fica até difícil escolher por onde começar. Para te ajudar a aproveitar ao máximo, preparei algumas dicas extras com base nas avaliações e informações mais recentes sobre alguns dos destaques que você mencionou:\n> \n> **Cataratas do Iguaçu:**\n> \n> *   **Dica:** Para evitar filas e aproveitar ao máximo, tente chegar cedo, logo na abertura do parque.\n> *   **Avaliações:** As Cataratas são sempre um sucesso! Os visitantes elogiam a organização do parque, a beleza das quedas e a experiência de estar em contato com a natureza exuberante. Muitos recomendam a trilha do Poço Preto para uma vista panorâmica e a Trilha das Cataratas, que leva bem pertinho das quedas.\n> *   **Noite das Cataratas:** Se quiser algo especial, a \"Noite das Cataratas\" é imperdível! As avaliações destacam a iluminação cênica, o jantar delicioso e a atmosfera mágica.\n> \n> **Parque das Aves:**\n> \n> *   **Dica:** Reserve pelo menos 2 horas para explorar o parque com calma e não perca a oportunidade de interagir com as araras no viveiro.\n> *   **Avaliações:** O Parque das Aves é um dos mais bem avaliados de Foz do Iguaçu. Os visitantes amam a experiência de caminhar em meio aos viveiros, ver as aves de perto e aprender sobre a conservação das espécies. É uma ótima opção para famílias com crianças.\n> \n> **Itaipu Binacional:**\n> \n> *   **Dica:** Além do tour tradicional, considere fazer o Circuito Especial, que leva ao interior da usina e proporciona uma visão mais detalhada do funcionamento.\n> *   **Avaliações:** Itaipu impressiona pela grandiosidade e pela importância para a geração de energia. Os visitantes elogiam a organização dos tours, a beleza da paisagem e a oportunidade de aprender sobre a história da usina. O espetáculo da Itaipu Iluminada também é muito recomendado.\n> \n> **Outras Dicas:**\n> \n> *   **Transporte:** Para se locomover entre as atrações, você pode usar táxis, carros de aplicativo ou ônibus turísticos. Se preferir, alugue um carro para ter mais liberdade.\n> *   **Clima:** Foz do Iguaçu tem clima subtropical, com temperaturas elevadas e alta umidade. Use roupas leves, calçados confortáveis, protetor solar e repelente.\n> *   **Compras:** Se for fazer compras no Paraguai, pesquise os preços antes de ir e negocie com os vendedores.\n> \n> Com tantas opções incríveis, tenho certeza de que você terá um dia inesquecível em Foz do Iguaçu!\n"
          },
          "metadata": {}
        },
        {
          "output_type": "stream",
          "name": "stdout",
          "text": [
            "--------------------------------------------------------------\n",
            "\n",
            "--- 📝 Resultado do Agente 3 ---\n",
            "\n"
          ]
        },
        {
          "output_type": "display_data",
          "data": {
            "text/plain": [
              "<IPython.core.display.Markdown object>"
            ],
            "text/markdown": "> Uau, Foz do Iguaçu em 17 de maio de 2025 vai ser incrível! Que bom que você já tem um plano, e posso te ajudar a turbinar ainda mais com dicas e informações atualizadas direto das avaliações de quem já foi!\n> \n> **Cataratas do Iguaçu:**\n> \n> *   **Dica Extra:** Chegar cedo é fundamental! Mas, para garantir, que tal comprar os ingressos online com antecedência? Assim, você evita filas não só na entrada, mas também na bilheteria. 😉\n> *   **Avaliações:**\n>     *   \"As Cataratas são um espetáculo da natureza! A trilha é fácil e acessível, e a vista é simplesmente de tirar o fôlego.\"\n>     *   \"O passeio de barco no Macuco Safari é imperdível! A adrenalina de chegar perto das quedas é indescritível.\"\n>     *   \"A estrutura do parque é ótima, com restaurantes, lojas e banheiros bem cuidados. Vale a pena reservar um dia inteiro para explorar tudo com calma.\"\n> *   **Noite das Cataratas:**\n>     *   \"A iluminação noturna é mágica! As cores nas quedas criam um ambiente único e romântico.\"\n>     *   \"O jantar é delicioso, com opções para todos os gostos. A música ao vivo e o show de dança completam a experiência.\"\n>     *   \"É um evento caro, mas vale cada centavo! Uma noite inesquecível em um dos lugares mais bonitos do mundo.\"\n> \n> **Parque das Aves:**\n> \n> *   **Dica Extra:** Quer fotos incríveis com as aves? Use roupas coloridas! Elas adoram e ficam ainda mais curiosas para interagir. 🦜\n> *   **Avaliações:**\n>     *   \"O Parque das Aves é um lugar encantador! A gente se sente realmente imerso na natureza.\"\n>     *   \"As araras são super simpáticas e interagem com os visitantes. É uma experiência única poder alimentá-las e tirar fotos com elas.\"\n>     *   \"O parque é muito bem cuidado e os funcionários são atenciosos e prestativos. É um ótimo passeio para todas as idades.\"\n> \n> **Itaipu Binacional:**\n> \n> *   **Dica Extra:** Para os apaixonados por tecnologia e engenharia, o Circuito Especial é imperdível! Mas, se você tiver pouco tempo, o tour panorâmico já oferece uma ótima visão da usina.\n> *   **Avaliações:**\n>     *   \"Itaipu é uma obra de engenharia impressionante! É incrível ver como a usina gera energia para dois países.\"\n>     *   \"O tour é muito bem organizado e os guias são super informados. A gente aprende muito sobre a história da usina e o processo de geração de energia.\"\n>     *   \"O pôr do sol em Itaipu é maravilhoso! A vista do lago e da usina é simplesmente espetacular.\"\n> *   **Itaipu Iluminada:**\n>     *   \"O show de luzes é emocionante! A música e a iluminação criam uma atmosfera mágica.\"\n>     *   \"É uma ótima opção para quem quer conhecer Itaipu de uma forma diferente e divertida.\"\n>     *   \"Recomendo chegar cedo para garantir um bom lugar e aproveitar o show com tranquilidade.\"\n> \n> **Outras Dicas:**\n> \n> *   **Transporte:** Se for usar transporte público, o \"Foztrans\" tem um aplicativo que te ajuda a planejar as rotas e horários dos ônibus. 😉\n> *   **Clima:** A previsão para maio de 2025 ainda é incerta, mas geralmente o clima é ameno e agradável. Leve um casaco leve para se proteger do vento nas Cataratas e não se esqueça do protetor solar!\n> *   **Compras:** Além do Paraguai, Ciudad del Este, na Argentina, também é uma ótima opção para compras. Pesquise os preços e compare antes de comprar.\n> \n> Com essas dicas e avaliações fresquinhas, sua viagem para Foz do Iguaçu em 2025 será inesquecível! Aproveite cada momento e explore cada cantinho desse lugar mágico! ✨\n> \n"
          },
          "metadata": {}
        },
        {
          "output_type": "stream",
          "name": "stdout",
          "text": [
            "--------------------------------------------------------------\n",
            "\n",
            "--- 📝 Resultado do Agente 4 ---\n",
            "\n"
          ]
        },
        {
          "output_type": "display_data",
          "data": {
            "text/plain": [
              "<IPython.core.display.Markdown object>"
            ],
            "text/markdown": "> Uau, Foz do Iguaçu em 17 de maio de 2025 promete ser inesquecível! Que bom que você já está planejando, e com as dicas e avaliações da nossa comunidade, sua viagem será ainda mais incrível!\n> \n> **Resumo do seu roteiro turbinado:**\n> \n> *   **Cataratas do Iguaçu:** Chegue cedo (e compre ingressos online para evitar filas!), prepare-se para uma trilha acessível com vistas de tirar o fôlego. Se busca adrenalina, o Macuco Safari é imperdível! E à noite, a iluminação especial transforma as Cataratas em um espetáculo romântico e mágico.\n> *   **Parque das Aves:** Prepare suas roupas coloridas para atrair as aves e tirar fotos incríveis! Uma imersão na natureza onde você poderá interagir de perto com araras e outras aves exóticas.\n> *   **Itaipu Binacional:** Uma obra de engenharia impressionante! Faça o tour panorâmico ou, se for fã de tecnologia, o Circuito Especial. Não perca o pôr do sol no lago de Itaipu e, se possível, assista ao show de luzes da Itaipu Iluminada.\n> \n> **Dicas Extras da Comunidade:**\n> \n> *   **Transporte:** Use o aplicativo Foztrans para planejar suas rotas de ônibus.\n> *   **Clima:** Leve um casaco leve e protetor solar.\n> *   **Compras:** Explore também Ciudad del Este, na Argentina, para compras.\n> \n> **Que tal trocar experiências e fazer novos amigos para explorar Foz do Iguaçu juntos?**\n> \n> *   Alguém mais estará em Foz do Iguaçu nessa mesma época?\n> *   Quais outras atrações vocês gostariam de explorar juntos?\n> *   Compartilhem suas dicas e expectativas para a viagem!\n> \n> Aproveite cada momento em Foz do Iguaçu! ✨\n> \n"
          },
          "metadata": {}
        },
        {
          "output_type": "stream",
          "name": "stdout",
          "text": [
            "--------------------------------------------------------------\n"
          ]
        }
      ]
    }
  ]
}